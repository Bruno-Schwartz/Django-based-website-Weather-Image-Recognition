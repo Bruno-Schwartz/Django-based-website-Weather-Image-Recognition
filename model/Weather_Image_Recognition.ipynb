{
  "nbformat": 4,
  "nbformat_minor": 0,
  "metadata": {
    "colab": {
      "provenance": []
    },
    "kernelspec": {
      "name": "python3",
      "display_name": "Python 3"
    },
    "language_info": {
      "name": "python"
    }
  },
  "cells": [
    {
      "cell_type": "markdown",
      "source": [
        "## Obtaining the dataset"
      ],
      "metadata": {
        "id": "dC_wxI9Jscv8"
      }
    },
    {
      "cell_type": "markdown",
      "source": [
        "We use the same code as the Capstone Project to download the dataset from Kaggle"
      ],
      "metadata": {
        "id": "KAg_s_vqq0sZ"
      }
    },
    {
      "cell_type": "code",
      "execution_count": 1,
      "metadata": {
        "id": "RKOFniBLgWQl"
      },
      "outputs": [],
      "source": [
        "#Delete sample folder\n",
        "import shutil\n",
        "import os\n",
        "if os.path.exists(\"sample_data\"):\n",
        "  shutil.rmtree(\"sample_data\")\n",
        "\n",
        "\n",
        "#In order to use the kaggle dataset, here are the user credentials to download the *dataset*\n",
        "import json\n",
        "data = {\"username\": \"eglqwevffjksjenodb\",\"key\": \"e6eb0ddd811634e7292a46ce35ee14de\"}\n",
        "with open(\"kaggle.json\", \"w\") as outfile:\n",
        "    json.dump(data, outfile)"
      ]
    },
    {
      "cell_type": "code",
      "source": [
        "!mkdir ~/.kaggle"
      ],
      "metadata": {
        "id": "NzY9BGY5q_c0"
      },
      "execution_count": 2,
      "outputs": []
    },
    {
      "cell_type": "code",
      "source": [
        "!mv kaggle.json ~/.kaggle/"
      ],
      "metadata": {
        "id": "kIIhJYVirQ4_"
      },
      "execution_count": 3,
      "outputs": []
    },
    {
      "cell_type": "code",
      "source": [
        "!chmod 600 /root/.kaggle/kaggle.json"
      ],
      "metadata": {
        "id": "NjPcKi-vrViw"
      },
      "execution_count": 4,
      "outputs": []
    },
    {
      "cell_type": "markdown",
      "source": [
        "Download the dataset"
      ],
      "metadata": {
        "id": "L8BbchLfram5"
      }
    },
    {
      "cell_type": "code",
      "source": [
        "!kaggle datasets download -d jehanbhathena/weather-dataset"
      ],
      "metadata": {
        "colab": {
          "base_uri": "https://localhost:8080/"
        },
        "id": "6zoqGjG2rYfV",
        "outputId": "e3b6da62-22da-4bd8-bf8c-595c33f02d20"
      },
      "execution_count": 5,
      "outputs": [
        {
          "output_type": "stream",
          "name": "stdout",
          "text": [
            "Downloading weather-dataset.zip to /content\n",
            "100% 586M/587M [00:26<00:00, 21.1MB/s]\n",
            "100% 587M/587M [00:26<00:00, 23.6MB/s]\n"
          ]
        }
      ]
    },
    {
      "cell_type": "markdown",
      "source": [
        "Unzip the file"
      ],
      "metadata": {
        "id": "LPp6EEgYsaVn"
      }
    },
    {
      "cell_type": "code",
      "source": [
        "!unzip -q weather-dataset.zip"
      ],
      "metadata": {
        "id": "LfmiZaGPsMzl"
      },
      "execution_count": 6,
      "outputs": []
    },
    {
      "cell_type": "markdown",
      "source": [
        "Remove the zip file"
      ],
      "metadata": {
        "id": "JEHu2m3qsrqk"
      }
    },
    {
      "cell_type": "code",
      "source": [
        "os.remove(\"weather-dataset.zip\")"
      ],
      "metadata": {
        "id": "5m2f8PMHshGL"
      },
      "execution_count": 7,
      "outputs": []
    },
    {
      "cell_type": "markdown",
      "source": [
        "## Exploratory Data Analysis"
      ],
      "metadata": {
        "id": "oaQzNEXOs6qJ"
      }
    },
    {
      "cell_type": "code",
      "source": [
        "import os\n",
        "from PIL import Image\n",
        "import matplotlib.pyplot as plt"
      ],
      "metadata": {
        "id": "AtXUrcuf5tGO"
      },
      "execution_count": 8,
      "outputs": []
    },
    {
      "cell_type": "code",
      "source": [
        "subfolders = [folder for folder in os.listdir('/content/dataset') if os.path.isdir(os.path.join('/content/dataset', folder))]\n",
        "subfolders"
      ],
      "metadata": {
        "colab": {
          "base_uri": "https://localhost:8080/"
        },
        "id": "pwVmXzXYsuxP",
        "outputId": "fcd6bc79-9326-4393-8eb1-35ed14aff7fa"
      },
      "execution_count": 9,
      "outputs": [
        {
          "output_type": "execute_result",
          "data": {
            "text/plain": [
              "['rainbow',\n",
              " 'glaze',\n",
              " 'rime',\n",
              " 'hail',\n",
              " 'sandstorm',\n",
              " 'lightning',\n",
              " 'rain',\n",
              " 'frost',\n",
              " 'fogsmog',\n",
              " 'dew',\n",
              " 'snow']"
            ]
          },
          "metadata": {},
          "execution_count": 9
        }
      ]
    },
    {
      "cell_type": "code",
      "source": [
        "num_images = []\n",
        "total = 0\n",
        "\n",
        "for subfolder in subfolders:\n",
        "    subfolder_path = os.path.join('/content/dataset', subfolder)\n",
        "    images = [image for image in os.listdir(subfolder_path) if image.endswith('.jpg')]\n",
        "    num_images.append(len(images))\n",
        "    print(f\"{subfolder}: {len(images)}\")\n",
        "    total += len(images)\n",
        "print(f'Total images: {total}')"
      ],
      "metadata": {
        "colab": {
          "base_uri": "https://localhost:8080/"
        },
        "id": "S0JUTXUP59VT",
        "outputId": "051258a3-5cb5-4a64-dc9e-dc8a66edafc6"
      },
      "execution_count": 10,
      "outputs": [
        {
          "output_type": "stream",
          "name": "stdout",
          "text": [
            "rainbow: 232\n",
            "glaze: 639\n",
            "rime: 1160\n",
            "hail: 591\n",
            "sandstorm: 692\n",
            "lightning: 377\n",
            "rain: 526\n",
            "frost: 475\n",
            "fogsmog: 851\n",
            "dew: 698\n",
            "snow: 621\n",
            "Total images: 6862\n"
          ]
        }
      ]
    },
    {
      "cell_type": "markdown",
      "source": [
        "## Creating the folders train, validation, and test"
      ],
      "metadata": {
        "id": "_KUN3ZyfBi6N"
      }
    },
    {
      "cell_type": "markdown",
      "source": [
        "Copying the logic from the Capstone project codes"
      ],
      "metadata": {
        "id": "9YxEX4D3BxhU"
      }
    },
    {
      "cell_type": "code",
      "source": [
        "# Split Percentage (0 or 100 mean no spliting)\n",
        "train_percentage = 0.70\n",
        "validation_percentage = 0.20\n",
        "test_percentage = 0.10"
      ],
      "metadata": {
        "id": "5450I3SZCB0i"
      },
      "execution_count": 11,
      "outputs": []
    },
    {
      "cell_type": "code",
      "source": [
        "import random\n",
        "\n",
        "def split_data(src_folder, train_folder, test_folder, validation_folder, train_percentage, test_percentage, validation_percentage, seed=None):\n",
        "    # Set the random seed\n",
        "    random.seed(seed)\n",
        "\n",
        "    # Create train, test, and validation folders\n",
        "    os.makedirs(train_folder, exist_ok=True)\n",
        "    os.makedirs(test_folder, exist_ok=True)\n",
        "    os.makedirs(validation_folder, exist_ok=True)\n",
        "\n",
        "    # Iterate over the folders in the source folder\n",
        "    for folder_name in os.listdir(src_folder):\n",
        "        folder_path = os.path.join(src_folder, folder_name)\n",
        "\n",
        "        # Skip non-folder files\n",
        "        if not os.path.isdir(folder_path):\n",
        "            continue\n",
        "\n",
        "        # Create the corresponding train, test, and validation subfolders\n",
        "        train_subfolder = os.path.join(train_folder, folder_name)\n",
        "        test_subfolder = os.path.join(test_folder, folder_name)\n",
        "        validation_subfolder = os.path.join(validation_folder, folder_name)\n",
        "        os.makedirs(train_subfolder, exist_ok=True)\n",
        "        os.makedirs(test_subfolder, exist_ok=True)\n",
        "        os.makedirs(validation_subfolder, exist_ok=True)\n",
        "\n",
        "        # Iterate over the files in the current folder\n",
        "        for file_name in os.listdir(folder_path):\n",
        "            file_path = os.path.join(folder_path, file_name)\n",
        "\n",
        "            # Decide whether to place the file in the train, test, or validation subfolder\n",
        "            rand_value = random.uniform(0, 1)\n",
        "            if rand_value < train_percentage:\n",
        "                destination_folder = train_subfolder\n",
        "            elif rand_value < train_percentage + test_percentage:\n",
        "                destination_folder = test_subfolder\n",
        "            else:\n",
        "                destination_folder = validation_subfolder\n",
        "\n",
        "            # Copy the file to the appropriate subfolder\n",
        "            shutil.copy(file_path, destination_folder)"
      ],
      "metadata": {
        "id": "G29zMNDuBvvo"
      },
      "execution_count": 12,
      "outputs": []
    },
    {
      "cell_type": "code",
      "source": [
        "if os.path.exists(\"weather_dataset\"):\n",
        "  shutil.rmtree(\"weather_dataset\")\n",
        "os.makedirs(os.path.join('weather_dataset'))\n",
        "\n",
        "src_folder = '/content/dataset'\n",
        "train_folder = 'weather_dataset/train'\n",
        "test_folder = 'weather_dataset/test'\n",
        "validation_folder = 'weather_dataset/validation'\n",
        "\n",
        "seed = 4840\n",
        "\n",
        "split_data(src_folder, train_folder, test_folder, validation_folder, train_percentage, test_percentage, validation_percentage, seed)\n",
        "\n",
        "print(\"train dew\",len(os.listdir(\"weather_dataset/train/dew\")))\n",
        "print(\"train fogsmog\",len(os.listdir(\"weather_dataset/train/fogsmog\")))\n",
        "print(\"train frost\",len(os.listdir(\"weather_dataset/train/frost\")))\n",
        "print(\"train glaze\",len(os.listdir(\"weather_dataset/train/glaze\")))\n",
        "print(\"train hail\",len(os.listdir(\"weather_dataset/train/hail\")))\n",
        "print(\"train lightning\",len(os.listdir(\"weather_dataset/train/lightning\")))\n",
        "print(\"train rain\",len(os.listdir(\"weather_dataset/train/rain\")))\n",
        "print(\"train rainbow\",len(os.listdir(\"weather_dataset/train/rainbow\")))\n",
        "print(\"train rime\",len(os.listdir(\"weather_dataset/train/rime\")))\n",
        "print(\"train sandstorm\",len(os.listdir(\"weather_dataset/train/sandstorm\")))\n",
        "print(\"train snow\",len(os.listdir(\"weather_dataset/train/snow\")))\n",
        "print(\".....\")\n",
        "print(\"validation dew\",len(os.listdir(\"weather_dataset/validation/dew\")))\n",
        "print(\"validation fogsmog\",len(os.listdir(\"weather_dataset/validation/fogsmog\")))\n",
        "print(\"validation frost\",len(os.listdir(\"weather_dataset/validation/frost\")))\n",
        "print(\"validation glaze\",len(os.listdir(\"weather_dataset/validation/glaze\")))\n",
        "print(\"validation hail\",len(os.listdir(\"weather_dataset/validation/hail\")))\n",
        "print(\"validation lightning\",len(os.listdir(\"weather_dataset/validation/lightning\")))\n",
        "print(\"validation rain\",len(os.listdir(\"weather_dataset/validation/rain\")))\n",
        "print(\"validation rainbow\",len(os.listdir(\"weather_dataset/validation/rainbow\")))\n",
        "print(\"validation rime\",len(os.listdir(\"weather_dataset/validation/rime\")))\n",
        "print(\"validation sandstorm\",len(os.listdir(\"weather_dataset/validation/sandstorm\")))\n",
        "print(\"validation snow\",len(os.listdir(\"weather_dataset/validation/snow\")))\n",
        "print(\".....\")\n",
        "print(\"test dew\",len(os.listdir(\"weather_dataset/test/dew\")))\n",
        "print(\"test fogsmog\",len(os.listdir(\"weather_dataset/test/fogsmog\")))\n",
        "print(\"test frost\",len(os.listdir(\"weather_dataset/test/frost\")))\n",
        "print(\"test glaze\",len(os.listdir(\"weather_dataset/test/glaze\")))\n",
        "print(\"test hail\",len(os.listdir(\"weather_dataset/test/hail\")))\n",
        "print(\"test lightning\",len(os.listdir(\"weather_dataset/test/lightning\")))\n",
        "print(\"test rain\",len(os.listdir(\"weather_dataset/test/rain\")))\n",
        "print(\"test rainbow\",len(os.listdir(\"weather_dataset/test/rainbow\")))\n",
        "print(\"test rime\",len(os.listdir(\"weather_dataset/test/rime\")))\n",
        "print(\"test sandstorm\",len(os.listdir(\"weather_dataset/test/sandstorm\")))\n",
        "print(\"test snow\",len(os.listdir(\"weather_dataset/test/snow\")))"
      ],
      "metadata": {
        "colab": {
          "base_uri": "https://localhost:8080/"
        },
        "id": "qqRMppQwCWgS",
        "outputId": "14d3350a-d69b-49f7-8738-acc3e5841302"
      },
      "execution_count": 13,
      "outputs": [
        {
          "output_type": "stream",
          "name": "stdout",
          "text": [
            "train dew 476\n",
            "train fogsmog 592\n",
            "train frost 340\n",
            "train glaze 475\n",
            "train hail 435\n",
            "train lightning 256\n",
            "train rain 365\n",
            "train rainbow 161\n",
            "train rime 824\n",
            "train sandstorm 483\n",
            "train snow 457\n",
            ".....\n",
            "validation dew 161\n",
            "validation fogsmog 187\n",
            "validation frost 92\n",
            "validation glaze 112\n",
            "validation hail 104\n",
            "validation lightning 84\n",
            "validation rain 111\n",
            "validation rainbow 40\n",
            "validation rime 212\n",
            "validation sandstorm 140\n",
            "validation snow 111\n",
            ".....\n",
            "test dew 61\n",
            "test fogsmog 72\n",
            "test frost 43\n",
            "test glaze 52\n",
            "test hail 52\n",
            "test lightning 37\n",
            "test rain 50\n",
            "test rainbow 31\n",
            "test rime 124\n",
            "test sandstorm 69\n",
            "test snow 53\n"
          ]
        }
      ]
    },
    {
      "cell_type": "code",
      "source": [
        "#os.removedirs(\"/content/weather_dataset\")"
      ],
      "metadata": {
        "id": "29u69tcaEVww"
      },
      "execution_count": 14,
      "outputs": []
    },
    {
      "cell_type": "markdown",
      "source": [
        "## Running pre trained models"
      ],
      "metadata": {
        "id": "Sj2CVvic9alz"
      }
    },
    {
      "cell_type": "markdown",
      "source": [
        "### ResNet50"
      ],
      "metadata": {
        "id": "cZToxBrzLduf"
      }
    },
    {
      "cell_type": "code",
      "source": [
        "import tensorflow as tf\n",
        "from tensorflow.keras.applications import ResNet50\n",
        "from tensorflow.keras.layers import Dense, GlobalAveragePooling2D\n",
        "from tensorflow.keras.models import Model\n",
        "from tensorflow.keras.preprocessing.image import ImageDataGenerator"
      ],
      "metadata": {
        "id": "9hmuVcsCIHT9"
      },
      "execution_count": 14,
      "outputs": []
    },
    {
      "cell_type": "code",
      "source": [
        "train_data_dir = '/content/weather_dataset/train'\n",
        "valid_data_dir = '/content/weather_dataset/validation'\n",
        "image_size = (256, 256)\n",
        "batch_size = 32"
      ],
      "metadata": {
        "id": "tSXfdANgISln"
      },
      "execution_count": 15,
      "outputs": []
    },
    {
      "cell_type": "markdown",
      "source": [
        "Including some augmentations"
      ],
      "metadata": {
        "id": "sEHE0zc4Idgt"
      }
    },
    {
      "cell_type": "code",
      "source": [
        "# Preprocessing\n",
        "train_datagen = ImageDataGenerator(\n",
        "    rescale=1.0/255,\n",
        "    rotation_range=20,\n",
        "    width_shift_range=0.2,\n",
        "    height_shift_range=0.2,\n",
        "    horizontal_flip=True\n",
        ")\n",
        "\n",
        "valid_datagen = ImageDataGenerator(rescale=1.0/255)"
      ],
      "metadata": {
        "id": "qq0QDfQoIWTK"
      },
      "execution_count": 17,
      "outputs": []
    },
    {
      "cell_type": "code",
      "source": [
        "train_generator = train_datagen.flow_from_directory(\n",
        "    train_data_dir,\n",
        "    target_size=image_size,\n",
        "    batch_size=batch_size,\n",
        "    class_mode='categorical'\n",
        ")\n",
        "\n",
        "valid_generator = valid_datagen.flow_from_directory(\n",
        "    valid_data_dir,\n",
        "    target_size=image_size,\n",
        "    batch_size=batch_size,\n",
        "    class_mode='categorical',\n",
        "    shuffle=False\n",
        ")"
      ],
      "metadata": {
        "colab": {
          "base_uri": "https://localhost:8080/"
        },
        "id": "WqpgK94hIbO0",
        "outputId": "ef466268-6b0b-4925-fdf6-46de5a5b9e10"
      },
      "execution_count": 18,
      "outputs": [
        {
          "output_type": "stream",
          "name": "stdout",
          "text": [
            "Found 4864 images belonging to 11 classes.\n",
            "Found 1354 images belonging to 11 classes.\n"
          ]
        }
      ]
    },
    {
      "cell_type": "code",
      "source": [
        "# Loading the model\n",
        "base_model = ResNet50(weights='imagenet', include_top=False, input_shape=(256, 256, 3))"
      ],
      "metadata": {
        "id": "VRZ4awF6Iw6V"
      },
      "execution_count": 20,
      "outputs": []
    },
    {
      "cell_type": "code",
      "source": [
        "# Customize the last layer\n",
        "x = base_model.output\n",
        "x = GlobalAveragePooling2D()(x)\n",
        "x = Dense(256, activation='relu')(x)\n",
        "# Define the number of classes\n",
        "predictions = Dense(11, activation='softmax')(x)\n",
        "\n",
        "model = Model(inputs=base_model.input, outputs=predictions)"
      ],
      "metadata": {
        "id": "QZZG0gooIywq"
      },
      "execution_count": 21,
      "outputs": []
    },
    {
      "cell_type": "code",
      "source": [
        "# Training\n",
        "# 224, 224, epochs=10\n",
        "model.compile(optimizer='adam', loss='categorical_crossentropy', metrics=['accuracy'])\n",
        "model.fit(train_generator, epochs=10, validation_data=valid_generator)"
      ],
      "metadata": {
        "colab": {
          "base_uri": "https://localhost:8080/"
        },
        "id": "2bsKgC1SI3IE",
        "outputId": "3f63b7cd-24fb-47fd-dbd7-f3bd98924509"
      },
      "execution_count": 22,
      "outputs": [
        {
          "output_type": "stream",
          "name": "stdout",
          "text": [
            "Epoch 1/10\n",
            "152/152 [==============================] - 146s 614ms/step - loss: 1.3055 - accuracy: 0.6028 - val_loss: 2.6150 - val_accuracy: 0.1374\n",
            "Epoch 2/10\n",
            "152/152 [==============================] - 94s 615ms/step - loss: 0.8299 - accuracy: 0.7342 - val_loss: 3.4166 - val_accuracy: 0.0510\n",
            "Epoch 3/10\n",
            "152/152 [==============================] - 93s 609ms/step - loss: 0.6808 - accuracy: 0.7741 - val_loss: 5.8356 - val_accuracy: 0.1374\n",
            "Epoch 4/10\n",
            "152/152 [==============================] - 93s 610ms/step - loss: 0.5769 - accuracy: 0.8117 - val_loss: 6.2147 - val_accuracy: 0.1603\n",
            "Epoch 5/10\n",
            "152/152 [==============================] - 93s 608ms/step - loss: 0.5367 - accuracy: 0.8189 - val_loss: 3.8311 - val_accuracy: 0.2474\n",
            "Epoch 6/10\n",
            "152/152 [==============================] - 91s 600ms/step - loss: 0.5059 - accuracy: 0.8242 - val_loss: 1.1344 - val_accuracy: 0.6425\n",
            "Epoch 7/10\n",
            "152/152 [==============================] - 93s 612ms/step - loss: 0.4913 - accuracy: 0.8347 - val_loss: 1.0507 - val_accuracy: 0.7068\n",
            "Epoch 8/10\n",
            "152/152 [==============================] - 93s 609ms/step - loss: 0.4641 - accuracy: 0.8353 - val_loss: 0.7725 - val_accuracy: 0.7541\n",
            "Epoch 9/10\n",
            "152/152 [==============================] - 93s 610ms/step - loss: 0.4057 - accuracy: 0.8604 - val_loss: 0.9380 - val_accuracy: 0.7282\n",
            "Epoch 10/10\n",
            "152/152 [==============================] - 93s 608ms/step - loss: 0.4274 - accuracy: 0.8530 - val_loss: 1.1319 - val_accuracy: 0.6388\n"
          ]
        },
        {
          "output_type": "execute_result",
          "data": {
            "text/plain": [
              "<keras.callbacks.History at 0x7f48762abdc0>"
            ]
          },
          "metadata": {},
          "execution_count": 22
        }
      ]
    },
    {
      "cell_type": "code",
      "source": [
        "# Training\n",
        "# 256, 256, epochs=15\n",
        "model.compile(optimizer='adam', loss='categorical_crossentropy', metrics=['accuracy'])\n",
        "model.fit(train_generator, epochs=15, validation_data=valid_generator)"
      ],
      "metadata": {
        "colab": {
          "base_uri": "https://localhost:8080/"
        },
        "id": "ySCm3waPXy4G",
        "outputId": "519b74fc-01ae-4bca-ba10-7adf973aaa56"
      },
      "execution_count": 23,
      "outputs": [
        {
          "output_type": "stream",
          "name": "stdout",
          "text": [
            "Epoch 1/15\n",
            "152/152 [==============================] - 148s 735ms/step - loss: 1.2809 - accuracy: 0.6040 - val_loss: 30.6985 - val_accuracy: 0.0916\n",
            "Epoch 2/15\n",
            "152/152 [==============================] - 109s 718ms/step - loss: 0.8046 - accuracy: 0.7393 - val_loss: 6.2036 - val_accuracy: 0.1226\n",
            "Epoch 3/15\n",
            "152/152 [==============================] - 113s 744ms/step - loss: 0.7117 - accuracy: 0.7664 - val_loss: 4.4413 - val_accuracy: 0.0310\n",
            "Epoch 4/15\n",
            "152/152 [==============================] - 109s 719ms/step - loss: 0.6123 - accuracy: 0.7889 - val_loss: 5.2285 - val_accuracy: 0.1344\n",
            "Epoch 5/15\n",
            "152/152 [==============================] - 115s 754ms/step - loss: 0.5660 - accuracy: 0.8049 - val_loss: 3.9470 - val_accuracy: 0.2548\n",
            "Epoch 6/15\n",
            "152/152 [==============================] - 110s 721ms/step - loss: 0.5071 - accuracy: 0.8300 - val_loss: 0.9543 - val_accuracy: 0.7216\n",
            "Epoch 7/15\n",
            "152/152 [==============================] - 110s 725ms/step - loss: 0.4644 - accuracy: 0.8411 - val_loss: 0.7611 - val_accuracy: 0.7703\n",
            "Epoch 8/15\n",
            "152/152 [==============================] - 109s 716ms/step - loss: 0.4548 - accuracy: 0.8454 - val_loss: 1.2893 - val_accuracy: 0.6189\n",
            "Epoch 9/15\n",
            "152/152 [==============================] - 110s 724ms/step - loss: 0.4223 - accuracy: 0.8532 - val_loss: 0.9359 - val_accuracy: 0.7260\n",
            "Epoch 10/15\n",
            "152/152 [==============================] - 110s 721ms/step - loss: 0.4201 - accuracy: 0.8518 - val_loss: 1.7691 - val_accuracy: 0.5303\n",
            "Epoch 11/15\n",
            "152/152 [==============================] - 109s 716ms/step - loss: 0.3796 - accuracy: 0.8694 - val_loss: 0.8492 - val_accuracy: 0.7578\n",
            "Epoch 12/15\n",
            "152/152 [==============================] - 111s 732ms/step - loss: 0.3721 - accuracy: 0.8717 - val_loss: 1.7688 - val_accuracy: 0.5908\n",
            "Epoch 13/15\n",
            "152/152 [==============================] - 112s 734ms/step - loss: 0.3847 - accuracy: 0.8697 - val_loss: 1.4209 - val_accuracy: 0.6470\n",
            "Epoch 14/15\n",
            "152/152 [==============================] - 111s 730ms/step - loss: 0.3522 - accuracy: 0.8795 - val_loss: 0.6418 - val_accuracy: 0.8050\n",
            "Epoch 15/15\n",
            "152/152 [==============================] - 114s 751ms/step - loss: 0.3340 - accuracy: 0.8828 - val_loss: 0.8061 - val_accuracy: 0.7637\n"
          ]
        },
        {
          "output_type": "execute_result",
          "data": {
            "text/plain": [
              "<keras.callbacks.History at 0x7a66d81f78b0>"
            ]
          },
          "metadata": {},
          "execution_count": 23
        }
      ]
    },
    {
      "cell_type": "code",
      "source": [
        "# Evaluation\n",
        "loss, accuracy = model.evaluate(valid_generator)\n",
        "print(f'Validation Loss: {loss:.4f}, Validation Accuracy: {accuracy:.4f}')"
      ],
      "metadata": {
        "colab": {
          "base_uri": "https://localhost:8080/"
        },
        "id": "iG2yVXGY9cjo",
        "outputId": "6fc3b6d3-334b-4ea8-80db-5ee4cb3d2f93"
      },
      "execution_count": 24,
      "outputs": [
        {
          "output_type": "stream",
          "name": "stdout",
          "text": [
            "43/43 [==============================] - 7s 150ms/step - loss: 0.8061 - accuracy: 0.7637\n",
            "Validation Loss: 0.8061, Validation Accuracy: 0.7637\n"
          ]
        }
      ]
    },
    {
      "cell_type": "markdown",
      "source": [
        "Making predictions"
      ],
      "metadata": {
        "id": "-FsKG2-GSdvn"
      }
    },
    {
      "cell_type": "code",
      "source": [
        "import os\n",
        "import numpy as np\n",
        "from tensorflow.keras.preprocessing.image import ImageDataGenerator\n",
        "\n",
        "# Define the path to your test images folder\n",
        "test_images_folder = '/content/weather_dataset/test'\n",
        "\n",
        "# Get class labels\n",
        "class_labels = list(train_generator.class_indices.keys())\n",
        "\n",
        "# Preprocess and load the test images\n",
        "test_datagen = ImageDataGenerator(rescale=1.0/255)\n",
        "test_generator = test_datagen.flow_from_directory(\n",
        "    test_images_folder,\n",
        "    target_size=image_size,\n",
        "    batch_size=1,\n",
        "    class_mode='categorical',\n",
        "    shuffle=False\n",
        ")\n",
        "\n",
        "# Predictions\n",
        "predictions = model.predict(test_generator)\n",
        "\n",
        "# Convert predictions to class labels\n",
        "predicted_labels = [class_labels[np.argmax(pred)] for pred in predictions]\n",
        "\n",
        "# Get ground truth labels\n",
        "ground_truth_labels = test_generator.filenames\n",
        "ground_truth_labels = [label.split('/')[0] for label in ground_truth_labels]  # Extract folder names\n",
        "\n",
        "# Compare predictions with ground truth\n",
        "for i in range(len(predicted_labels)):\n",
        "    print(f\"True Label: {ground_truth_labels[i]}, Predicted Label: {predicted_labels[i]}\")"
      ],
      "metadata": {
        "colab": {
          "base_uri": "https://localhost:8080/"
        },
        "id": "CshWJK0fR7to",
        "outputId": "d853ac46-779a-418f-8009-0e3d87dc63f8"
      },
      "execution_count": 25,
      "outputs": [
        {
          "output_type": "stream",
          "name": "stdout",
          "text": [
            "Found 644 images belonging to 11 classes.\n",
            "644/644 [==============================] - 8s 10ms/step\n",
            "True Label: dew, Predicted Label: dew\n",
            "True Label: dew, Predicted Label: dew\n",
            "True Label: dew, Predicted Label: dew\n",
            "True Label: dew, Predicted Label: dew\n",
            "True Label: dew, Predicted Label: dew\n",
            "True Label: dew, Predicted Label: dew\n",
            "True Label: dew, Predicted Label: dew\n",
            "True Label: dew, Predicted Label: dew\n",
            "True Label: dew, Predicted Label: dew\n",
            "True Label: dew, Predicted Label: glaze\n",
            "True Label: dew, Predicted Label: dew\n",
            "True Label: dew, Predicted Label: dew\n",
            "True Label: dew, Predicted Label: dew\n",
            "True Label: dew, Predicted Label: dew\n",
            "True Label: dew, Predicted Label: dew\n",
            "True Label: dew, Predicted Label: hail\n",
            "True Label: dew, Predicted Label: dew\n",
            "True Label: dew, Predicted Label: dew\n",
            "True Label: dew, Predicted Label: dew\n",
            "True Label: dew, Predicted Label: dew\n",
            "True Label: dew, Predicted Label: dew\n",
            "True Label: dew, Predicted Label: dew\n",
            "True Label: dew, Predicted Label: dew\n",
            "True Label: dew, Predicted Label: dew\n",
            "True Label: dew, Predicted Label: dew\n",
            "True Label: dew, Predicted Label: dew\n",
            "True Label: dew, Predicted Label: dew\n",
            "True Label: dew, Predicted Label: dew\n",
            "True Label: dew, Predicted Label: dew\n",
            "True Label: dew, Predicted Label: dew\n",
            "True Label: dew, Predicted Label: dew\n",
            "True Label: dew, Predicted Label: dew\n",
            "True Label: dew, Predicted Label: dew\n",
            "True Label: dew, Predicted Label: dew\n",
            "True Label: dew, Predicted Label: dew\n",
            "True Label: dew, Predicted Label: dew\n",
            "True Label: dew, Predicted Label: dew\n",
            "True Label: dew, Predicted Label: dew\n",
            "True Label: dew, Predicted Label: dew\n",
            "True Label: dew, Predicted Label: dew\n",
            "True Label: dew, Predicted Label: dew\n",
            "True Label: dew, Predicted Label: dew\n",
            "True Label: dew, Predicted Label: dew\n",
            "True Label: dew, Predicted Label: dew\n",
            "True Label: dew, Predicted Label: dew\n",
            "True Label: dew, Predicted Label: dew\n",
            "True Label: dew, Predicted Label: dew\n",
            "True Label: dew, Predicted Label: dew\n",
            "True Label: dew, Predicted Label: dew\n",
            "True Label: dew, Predicted Label: dew\n",
            "True Label: dew, Predicted Label: dew\n",
            "True Label: dew, Predicted Label: glaze\n",
            "True Label: dew, Predicted Label: dew\n",
            "True Label: dew, Predicted Label: dew\n",
            "True Label: dew, Predicted Label: dew\n",
            "True Label: dew, Predicted Label: dew\n",
            "True Label: dew, Predicted Label: dew\n",
            "True Label: dew, Predicted Label: dew\n",
            "True Label: dew, Predicted Label: dew\n",
            "True Label: dew, Predicted Label: dew\n",
            "True Label: dew, Predicted Label: dew\n",
            "True Label: dew, Predicted Label: dew\n",
            "True Label: dew, Predicted Label: dew\n",
            "True Label: dew, Predicted Label: glaze\n",
            "True Label: dew, Predicted Label: dew\n",
            "True Label: dew, Predicted Label: dew\n",
            "True Label: dew, Predicted Label: dew\n",
            "True Label: dew, Predicted Label: dew\n",
            "True Label: dew, Predicted Label: dew\n",
            "True Label: dew, Predicted Label: dew\n",
            "True Label: dew, Predicted Label: dew\n",
            "True Label: dew, Predicted Label: dew\n",
            "True Label: dew, Predicted Label: dew\n",
            "True Label: dew, Predicted Label: dew\n",
            "True Label: dew, Predicted Label: dew\n",
            "True Label: fogsmog, Predicted Label: fogsmog\n",
            "True Label: fogsmog, Predicted Label: fogsmog\n",
            "True Label: fogsmog, Predicted Label: fogsmog\n",
            "True Label: fogsmog, Predicted Label: fogsmog\n",
            "True Label: fogsmog, Predicted Label: fogsmog\n",
            "True Label: fogsmog, Predicted Label: fogsmog\n",
            "True Label: fogsmog, Predicted Label: fogsmog\n",
            "True Label: fogsmog, Predicted Label: fogsmog\n",
            "True Label: fogsmog, Predicted Label: fogsmog\n",
            "True Label: fogsmog, Predicted Label: fogsmog\n",
            "True Label: fogsmog, Predicted Label: fogsmog\n",
            "True Label: fogsmog, Predicted Label: fogsmog\n",
            "True Label: fogsmog, Predicted Label: fogsmog\n",
            "True Label: fogsmog, Predicted Label: fogsmog\n",
            "True Label: fogsmog, Predicted Label: fogsmog\n",
            "True Label: fogsmog, Predicted Label: fogsmog\n",
            "True Label: fogsmog, Predicted Label: fogsmog\n",
            "True Label: fogsmog, Predicted Label: fogsmog\n",
            "True Label: fogsmog, Predicted Label: fogsmog\n",
            "True Label: fogsmog, Predicted Label: fogsmog\n",
            "True Label: fogsmog, Predicted Label: fogsmog\n",
            "True Label: fogsmog, Predicted Label: fogsmog\n",
            "True Label: fogsmog, Predicted Label: fogsmog\n",
            "True Label: fogsmog, Predicted Label: fogsmog\n",
            "True Label: fogsmog, Predicted Label: fogsmog\n",
            "True Label: fogsmog, Predicted Label: fogsmog\n",
            "True Label: fogsmog, Predicted Label: fogsmog\n",
            "True Label: fogsmog, Predicted Label: fogsmog\n",
            "True Label: fogsmog, Predicted Label: fogsmog\n",
            "True Label: fogsmog, Predicted Label: fogsmog\n",
            "True Label: fogsmog, Predicted Label: fogsmog\n",
            "True Label: fogsmog, Predicted Label: fogsmog\n",
            "True Label: fogsmog, Predicted Label: fogsmog\n",
            "True Label: fogsmog, Predicted Label: fogsmog\n",
            "True Label: fogsmog, Predicted Label: fogsmog\n",
            "True Label: fogsmog, Predicted Label: fogsmog\n",
            "True Label: fogsmog, Predicted Label: rain\n",
            "True Label: fogsmog, Predicted Label: fogsmog\n",
            "True Label: fogsmog, Predicted Label: fogsmog\n",
            "True Label: fogsmog, Predicted Label: fogsmog\n",
            "True Label: fogsmog, Predicted Label: fogsmog\n",
            "True Label: fogsmog, Predicted Label: fogsmog\n",
            "True Label: fogsmog, Predicted Label: fogsmog\n",
            "True Label: fogsmog, Predicted Label: fogsmog\n",
            "True Label: fogsmog, Predicted Label: fogsmog\n",
            "True Label: fogsmog, Predicted Label: fogsmog\n",
            "True Label: fogsmog, Predicted Label: fogsmog\n",
            "True Label: fogsmog, Predicted Label: fogsmog\n",
            "True Label: fogsmog, Predicted Label: fogsmog\n",
            "True Label: fogsmog, Predicted Label: fogsmog\n",
            "True Label: fogsmog, Predicted Label: fogsmog\n",
            "True Label: fogsmog, Predicted Label: fogsmog\n",
            "True Label: fogsmog, Predicted Label: fogsmog\n",
            "True Label: fogsmog, Predicted Label: fogsmog\n",
            "True Label: fogsmog, Predicted Label: fogsmog\n",
            "True Label: fogsmog, Predicted Label: fogsmog\n",
            "True Label: fogsmog, Predicted Label: fogsmog\n",
            "True Label: fogsmog, Predicted Label: fogsmog\n",
            "True Label: fogsmog, Predicted Label: dew\n",
            "True Label: fogsmog, Predicted Label: fogsmog\n",
            "True Label: fogsmog, Predicted Label: dew\n",
            "True Label: fogsmog, Predicted Label: fogsmog\n",
            "True Label: fogsmog, Predicted Label: fogsmog\n",
            "True Label: fogsmog, Predicted Label: fogsmog\n",
            "True Label: fogsmog, Predicted Label: fogsmog\n",
            "True Label: fogsmog, Predicted Label: fogsmog\n",
            "True Label: fogsmog, Predicted Label: fogsmog\n",
            "True Label: fogsmog, Predicted Label: fogsmog\n",
            "True Label: fogsmog, Predicted Label: fogsmog\n",
            "True Label: fogsmog, Predicted Label: fogsmog\n",
            "True Label: fogsmog, Predicted Label: fogsmog\n",
            "True Label: fogsmog, Predicted Label: fogsmog\n",
            "True Label: fogsmog, Predicted Label: fogsmog\n",
            "True Label: fogsmog, Predicted Label: fogsmog\n",
            "True Label: fogsmog, Predicted Label: fogsmog\n",
            "True Label: fogsmog, Predicted Label: rainbow\n",
            "True Label: fogsmog, Predicted Label: fogsmog\n",
            "True Label: fogsmog, Predicted Label: rain\n",
            "True Label: fogsmog, Predicted Label: fogsmog\n",
            "True Label: fogsmog, Predicted Label: fogsmog\n",
            "True Label: fogsmog, Predicted Label: fogsmog\n",
            "True Label: fogsmog, Predicted Label: fogsmog\n",
            "True Label: fogsmog, Predicted Label: fogsmog\n",
            "True Label: fogsmog, Predicted Label: fogsmog\n",
            "True Label: frost, Predicted Label: frost\n",
            "True Label: frost, Predicted Label: glaze\n",
            "True Label: frost, Predicted Label: frost\n",
            "True Label: frost, Predicted Label: frost\n",
            "True Label: frost, Predicted Label: frost\n",
            "True Label: frost, Predicted Label: frost\n",
            "True Label: frost, Predicted Label: glaze\n",
            "True Label: frost, Predicted Label: frost\n",
            "True Label: frost, Predicted Label: frost\n",
            "True Label: frost, Predicted Label: frost\n",
            "True Label: frost, Predicted Label: glaze\n",
            "True Label: frost, Predicted Label: frost\n",
            "True Label: frost, Predicted Label: frost\n",
            "True Label: frost, Predicted Label: frost\n",
            "True Label: frost, Predicted Label: dew\n",
            "True Label: frost, Predicted Label: frost\n",
            "True Label: frost, Predicted Label: frost\n",
            "True Label: frost, Predicted Label: frost\n",
            "True Label: frost, Predicted Label: frost\n",
            "True Label: frost, Predicted Label: frost\n",
            "True Label: frost, Predicted Label: frost\n",
            "True Label: frost, Predicted Label: frost\n",
            "True Label: frost, Predicted Label: frost\n",
            "True Label: frost, Predicted Label: frost\n",
            "True Label: frost, Predicted Label: glaze\n",
            "True Label: frost, Predicted Label: frost\n",
            "True Label: frost, Predicted Label: frost\n",
            "True Label: frost, Predicted Label: frost\n",
            "True Label: frost, Predicted Label: frost\n",
            "True Label: frost, Predicted Label: rain\n",
            "True Label: frost, Predicted Label: frost\n",
            "True Label: frost, Predicted Label: frost\n",
            "True Label: frost, Predicted Label: glaze\n",
            "True Label: frost, Predicted Label: frost\n",
            "True Label: frost, Predicted Label: frost\n",
            "True Label: frost, Predicted Label: glaze\n",
            "True Label: frost, Predicted Label: frost\n",
            "True Label: frost, Predicted Label: frost\n",
            "True Label: frost, Predicted Label: frost\n",
            "True Label: frost, Predicted Label: frost\n",
            "True Label: frost, Predicted Label: frost\n",
            "True Label: frost, Predicted Label: frost\n",
            "True Label: frost, Predicted Label: frost\n",
            "True Label: frost, Predicted Label: frost\n",
            "True Label: frost, Predicted Label: frost\n",
            "True Label: glaze, Predicted Label: snow\n",
            "True Label: glaze, Predicted Label: dew\n",
            "True Label: glaze, Predicted Label: glaze\n",
            "True Label: glaze, Predicted Label: glaze\n",
            "True Label: glaze, Predicted Label: glaze\n",
            "True Label: glaze, Predicted Label: glaze\n",
            "True Label: glaze, Predicted Label: glaze\n",
            "True Label: glaze, Predicted Label: frost\n",
            "True Label: glaze, Predicted Label: glaze\n",
            "True Label: glaze, Predicted Label: glaze\n",
            "True Label: glaze, Predicted Label: glaze\n",
            "True Label: glaze, Predicted Label: glaze\n",
            "True Label: glaze, Predicted Label: glaze\n",
            "True Label: glaze, Predicted Label: glaze\n",
            "True Label: glaze, Predicted Label: dew\n",
            "True Label: glaze, Predicted Label: dew\n",
            "True Label: glaze, Predicted Label: rime\n",
            "True Label: glaze, Predicted Label: dew\n",
            "True Label: glaze, Predicted Label: glaze\n",
            "True Label: glaze, Predicted Label: glaze\n",
            "True Label: glaze, Predicted Label: glaze\n",
            "True Label: glaze, Predicted Label: rain\n",
            "True Label: glaze, Predicted Label: frost\n",
            "True Label: glaze, Predicted Label: dew\n",
            "True Label: glaze, Predicted Label: glaze\n",
            "True Label: glaze, Predicted Label: dew\n",
            "True Label: glaze, Predicted Label: glaze\n",
            "True Label: glaze, Predicted Label: glaze\n",
            "True Label: glaze, Predicted Label: glaze\n",
            "True Label: glaze, Predicted Label: glaze\n",
            "True Label: glaze, Predicted Label: glaze\n",
            "True Label: glaze, Predicted Label: rain\n",
            "True Label: glaze, Predicted Label: glaze\n",
            "True Label: glaze, Predicted Label: rime\n",
            "True Label: glaze, Predicted Label: glaze\n",
            "True Label: glaze, Predicted Label: glaze\n",
            "True Label: glaze, Predicted Label: glaze\n",
            "True Label: glaze, Predicted Label: frost\n",
            "True Label: glaze, Predicted Label: glaze\n",
            "True Label: glaze, Predicted Label: glaze\n",
            "True Label: glaze, Predicted Label: glaze\n",
            "True Label: glaze, Predicted Label: glaze\n",
            "True Label: glaze, Predicted Label: glaze\n",
            "True Label: glaze, Predicted Label: glaze\n",
            "True Label: glaze, Predicted Label: glaze\n",
            "True Label: glaze, Predicted Label: glaze\n",
            "True Label: glaze, Predicted Label: glaze\n",
            "True Label: glaze, Predicted Label: glaze\n",
            "True Label: glaze, Predicted Label: glaze\n",
            "True Label: glaze, Predicted Label: glaze\n",
            "True Label: glaze, Predicted Label: glaze\n",
            "True Label: glaze, Predicted Label: glaze\n",
            "True Label: glaze, Predicted Label: frost\n",
            "True Label: glaze, Predicted Label: glaze\n",
            "True Label: glaze, Predicted Label: glaze\n",
            "True Label: glaze, Predicted Label: glaze\n",
            "True Label: glaze, Predicted Label: rime\n",
            "True Label: glaze, Predicted Label: glaze\n",
            "True Label: glaze, Predicted Label: glaze\n",
            "True Label: glaze, Predicted Label: glaze\n",
            "True Label: glaze, Predicted Label: glaze\n",
            "True Label: glaze, Predicted Label: snow\n",
            "True Label: glaze, Predicted Label: frost\n",
            "True Label: glaze, Predicted Label: glaze\n",
            "True Label: glaze, Predicted Label: dew\n",
            "True Label: glaze, Predicted Label: glaze\n",
            "True Label: glaze, Predicted Label: frost\n",
            "True Label: hail, Predicted Label: glaze\n",
            "True Label: hail, Predicted Label: hail\n",
            "True Label: hail, Predicted Label: glaze\n",
            "True Label: hail, Predicted Label: glaze\n",
            "True Label: hail, Predicted Label: snow\n",
            "True Label: hail, Predicted Label: dew\n",
            "True Label: hail, Predicted Label: snow\n",
            "True Label: hail, Predicted Label: glaze\n",
            "True Label: hail, Predicted Label: dew\n",
            "True Label: hail, Predicted Label: rain\n",
            "True Label: hail, Predicted Label: dew\n",
            "True Label: hail, Predicted Label: hail\n",
            "True Label: hail, Predicted Label: rime\n",
            "True Label: hail, Predicted Label: frost\n",
            "True Label: hail, Predicted Label: glaze\n",
            "True Label: hail, Predicted Label: dew\n",
            "True Label: hail, Predicted Label: hail\n",
            "True Label: hail, Predicted Label: dew\n",
            "True Label: hail, Predicted Label: snow\n",
            "True Label: hail, Predicted Label: snow\n",
            "True Label: hail, Predicted Label: dew\n",
            "True Label: hail, Predicted Label: hail\n",
            "True Label: hail, Predicted Label: glaze\n",
            "True Label: hail, Predicted Label: glaze\n",
            "True Label: hail, Predicted Label: dew\n",
            "True Label: hail, Predicted Label: hail\n",
            "True Label: hail, Predicted Label: hail\n",
            "True Label: hail, Predicted Label: hail\n",
            "True Label: hail, Predicted Label: dew\n",
            "True Label: hail, Predicted Label: dew\n",
            "True Label: hail, Predicted Label: dew\n",
            "True Label: hail, Predicted Label: hail\n",
            "True Label: hail, Predicted Label: dew\n",
            "True Label: hail, Predicted Label: hail\n",
            "True Label: hail, Predicted Label: hail\n",
            "True Label: hail, Predicted Label: dew\n",
            "True Label: hail, Predicted Label: dew\n",
            "True Label: hail, Predicted Label: frost\n",
            "True Label: hail, Predicted Label: hail\n",
            "True Label: hail, Predicted Label: dew\n",
            "True Label: hail, Predicted Label: hail\n",
            "True Label: hail, Predicted Label: rain\n",
            "True Label: hail, Predicted Label: hail\n",
            "True Label: hail, Predicted Label: dew\n",
            "True Label: hail, Predicted Label: hail\n",
            "True Label: hail, Predicted Label: glaze\n",
            "True Label: hail, Predicted Label: hail\n",
            "True Label: hail, Predicted Label: rain\n",
            "True Label: hail, Predicted Label: glaze\n",
            "True Label: hail, Predicted Label: dew\n",
            "True Label: hail, Predicted Label: hail\n",
            "True Label: hail, Predicted Label: hail\n",
            "True Label: hail, Predicted Label: dew\n",
            "True Label: lightning, Predicted Label: lightning\n",
            "True Label: lightning, Predicted Label: lightning\n",
            "True Label: lightning, Predicted Label: lightning\n",
            "True Label: lightning, Predicted Label: lightning\n",
            "True Label: lightning, Predicted Label: lightning\n",
            "True Label: lightning, Predicted Label: lightning\n",
            "True Label: lightning, Predicted Label: lightning\n",
            "True Label: lightning, Predicted Label: lightning\n",
            "True Label: lightning, Predicted Label: lightning\n",
            "True Label: lightning, Predicted Label: lightning\n",
            "True Label: lightning, Predicted Label: lightning\n",
            "True Label: lightning, Predicted Label: lightning\n",
            "True Label: lightning, Predicted Label: lightning\n",
            "True Label: lightning, Predicted Label: lightning\n",
            "True Label: lightning, Predicted Label: lightning\n",
            "True Label: lightning, Predicted Label: lightning\n",
            "True Label: lightning, Predicted Label: lightning\n",
            "True Label: lightning, Predicted Label: lightning\n",
            "True Label: lightning, Predicted Label: lightning\n",
            "True Label: lightning, Predicted Label: lightning\n",
            "True Label: lightning, Predicted Label: lightning\n",
            "True Label: lightning, Predicted Label: lightning\n",
            "True Label: lightning, Predicted Label: lightning\n",
            "True Label: lightning, Predicted Label: lightning\n",
            "True Label: lightning, Predicted Label: lightning\n",
            "True Label: lightning, Predicted Label: lightning\n",
            "True Label: lightning, Predicted Label: dew\n",
            "True Label: lightning, Predicted Label: lightning\n",
            "True Label: lightning, Predicted Label: lightning\n",
            "True Label: lightning, Predicted Label: lightning\n",
            "True Label: lightning, Predicted Label: lightning\n",
            "True Label: rain, Predicted Label: rain\n",
            "True Label: rain, Predicted Label: dew\n",
            "True Label: rain, Predicted Label: rain\n",
            "True Label: rain, Predicted Label: rain\n",
            "True Label: rain, Predicted Label: dew\n",
            "True Label: rain, Predicted Label: rain\n",
            "True Label: rain, Predicted Label: rain\n",
            "True Label: rain, Predicted Label: rain\n",
            "True Label: rain, Predicted Label: rain\n",
            "True Label: rain, Predicted Label: rain\n",
            "True Label: rain, Predicted Label: rain\n",
            "True Label: rain, Predicted Label: rain\n",
            "True Label: rain, Predicted Label: rain\n",
            "True Label: rain, Predicted Label: rain\n",
            "True Label: rain, Predicted Label: rain\n",
            "True Label: rain, Predicted Label: rain\n",
            "True Label: rain, Predicted Label: rain\n",
            "True Label: rain, Predicted Label: rain\n",
            "True Label: rain, Predicted Label: rain\n",
            "True Label: rain, Predicted Label: rain\n",
            "True Label: rain, Predicted Label: rain\n",
            "True Label: rain, Predicted Label: rain\n",
            "True Label: rain, Predicted Label: rain\n",
            "True Label: rain, Predicted Label: rain\n",
            "True Label: rain, Predicted Label: rain\n",
            "True Label: rain, Predicted Label: rain\n",
            "True Label: rain, Predicted Label: rain\n",
            "True Label: rain, Predicted Label: rain\n",
            "True Label: rain, Predicted Label: rain\n",
            "True Label: rain, Predicted Label: rain\n",
            "True Label: rain, Predicted Label: rain\n",
            "True Label: rain, Predicted Label: rain\n",
            "True Label: rain, Predicted Label: rain\n",
            "True Label: rain, Predicted Label: rain\n",
            "True Label: rain, Predicted Label: sandstorm\n",
            "True Label: rain, Predicted Label: rain\n",
            "True Label: rain, Predicted Label: rain\n",
            "True Label: rain, Predicted Label: rain\n",
            "True Label: rain, Predicted Label: rain\n",
            "True Label: rain, Predicted Label: rain\n",
            "True Label: rain, Predicted Label: rain\n",
            "True Label: rain, Predicted Label: rain\n",
            "True Label: rainbow, Predicted Label: rainbow\n",
            "True Label: rainbow, Predicted Label: rainbow\n",
            "True Label: rainbow, Predicted Label: rainbow\n",
            "True Label: rainbow, Predicted Label: rainbow\n",
            "True Label: rainbow, Predicted Label: rainbow\n",
            "True Label: rainbow, Predicted Label: rainbow\n",
            "True Label: rainbow, Predicted Label: rainbow\n",
            "True Label: rainbow, Predicted Label: rainbow\n",
            "True Label: rainbow, Predicted Label: rainbow\n",
            "True Label: rainbow, Predicted Label: lightning\n",
            "True Label: rainbow, Predicted Label: rainbow\n",
            "True Label: rainbow, Predicted Label: rainbow\n",
            "True Label: rainbow, Predicted Label: rainbow\n",
            "True Label: rainbow, Predicted Label: rainbow\n",
            "True Label: rime, Predicted Label: glaze\n",
            "True Label: rime, Predicted Label: rime\n",
            "True Label: rime, Predicted Label: snow\n",
            "True Label: rime, Predicted Label: snow\n",
            "True Label: rime, Predicted Label: frost\n",
            "True Label: rime, Predicted Label: snow\n",
            "True Label: rime, Predicted Label: rime\n",
            "True Label: rime, Predicted Label: rime\n",
            "True Label: rime, Predicted Label: rime\n",
            "True Label: rime, Predicted Label: snow\n",
            "True Label: rime, Predicted Label: rime\n",
            "True Label: rime, Predicted Label: frost\n",
            "True Label: rime, Predicted Label: rime\n",
            "True Label: rime, Predicted Label: snow\n",
            "True Label: rime, Predicted Label: rime\n",
            "True Label: rime, Predicted Label: frost\n",
            "True Label: rime, Predicted Label: snow\n",
            "True Label: rime, Predicted Label: frost\n",
            "True Label: rime, Predicted Label: rime\n",
            "True Label: rime, Predicted Label: rime\n",
            "True Label: rime, Predicted Label: rime\n",
            "True Label: rime, Predicted Label: frost\n",
            "True Label: rime, Predicted Label: glaze\n",
            "True Label: rime, Predicted Label: snow\n",
            "True Label: rime, Predicted Label: rime\n",
            "True Label: rime, Predicted Label: frost\n",
            "True Label: rime, Predicted Label: rime\n",
            "True Label: rime, Predicted Label: snow\n",
            "True Label: rime, Predicted Label: rime\n",
            "True Label: rime, Predicted Label: frost\n",
            "True Label: rime, Predicted Label: frost\n",
            "True Label: rime, Predicted Label: frost\n",
            "True Label: rime, Predicted Label: rime\n",
            "True Label: rime, Predicted Label: rime\n",
            "True Label: rime, Predicted Label: rime\n",
            "True Label: rime, Predicted Label: rime\n",
            "True Label: rime, Predicted Label: rime\n",
            "True Label: rime, Predicted Label: rime\n",
            "True Label: rime, Predicted Label: rime\n",
            "True Label: rime, Predicted Label: rime\n",
            "True Label: rime, Predicted Label: glaze\n",
            "True Label: rime, Predicted Label: snow\n",
            "True Label: rime, Predicted Label: frost\n",
            "True Label: rime, Predicted Label: rime\n",
            "True Label: rime, Predicted Label: frost\n",
            "True Label: rime, Predicted Label: frost\n",
            "True Label: rime, Predicted Label: rime\n",
            "True Label: rime, Predicted Label: frost\n",
            "True Label: rime, Predicted Label: rime\n",
            "True Label: rime, Predicted Label: snow\n",
            "True Label: rime, Predicted Label: rime\n",
            "True Label: rime, Predicted Label: rime\n",
            "True Label: rime, Predicted Label: snow\n",
            "True Label: rime, Predicted Label: rime\n",
            "True Label: rime, Predicted Label: rime\n",
            "True Label: rime, Predicted Label: rime\n",
            "True Label: rime, Predicted Label: rime\n",
            "True Label: rime, Predicted Label: rime\n",
            "True Label: rime, Predicted Label: rime\n",
            "True Label: rime, Predicted Label: frost\n",
            "True Label: rime, Predicted Label: frost\n",
            "True Label: rime, Predicted Label: rime\n",
            "True Label: rime, Predicted Label: snow\n",
            "True Label: rime, Predicted Label: rime\n",
            "True Label: rime, Predicted Label: frost\n",
            "True Label: rime, Predicted Label: rime\n",
            "True Label: rime, Predicted Label: rime\n",
            "True Label: rime, Predicted Label: rime\n",
            "True Label: rime, Predicted Label: rime\n",
            "True Label: rime, Predicted Label: rime\n",
            "True Label: rime, Predicted Label: rime\n",
            "True Label: rime, Predicted Label: rime\n",
            "True Label: rime, Predicted Label: rime\n",
            "True Label: rime, Predicted Label: snow\n",
            "True Label: rime, Predicted Label: rime\n",
            "True Label: rime, Predicted Label: rime\n",
            "True Label: rime, Predicted Label: frost\n",
            "True Label: rime, Predicted Label: frost\n",
            "True Label: rime, Predicted Label: frost\n",
            "True Label: rime, Predicted Label: frost\n",
            "True Label: rime, Predicted Label: rime\n",
            "True Label: rime, Predicted Label: dew\n",
            "True Label: rime, Predicted Label: rime\n",
            "True Label: rime, Predicted Label: rime\n",
            "True Label: rime, Predicted Label: dew\n",
            "True Label: rime, Predicted Label: rime\n",
            "True Label: rime, Predicted Label: rime\n",
            "True Label: rime, Predicted Label: rime\n",
            "True Label: rime, Predicted Label: rime\n",
            "True Label: rime, Predicted Label: rime\n",
            "True Label: rime, Predicted Label: rime\n",
            "True Label: rime, Predicted Label: snow\n",
            "True Label: rime, Predicted Label: rime\n",
            "True Label: rime, Predicted Label: rime\n",
            "True Label: rime, Predicted Label: rime\n",
            "True Label: rime, Predicted Label: rime\n",
            "True Label: rime, Predicted Label: rime\n",
            "True Label: rime, Predicted Label: dew\n",
            "True Label: rime, Predicted Label: rime\n",
            "True Label: rime, Predicted Label: rime\n",
            "True Label: rime, Predicted Label: rime\n",
            "True Label: rime, Predicted Label: rime\n",
            "True Label: rime, Predicted Label: rime\n",
            "True Label: rime, Predicted Label: frost\n",
            "True Label: rime, Predicted Label: rime\n",
            "True Label: rime, Predicted Label: frost\n",
            "True Label: rime, Predicted Label: rime\n",
            "True Label: sandstorm, Predicted Label: sandstorm\n",
            "True Label: sandstorm, Predicted Label: sandstorm\n",
            "True Label: sandstorm, Predicted Label: sandstorm\n",
            "True Label: sandstorm, Predicted Label: sandstorm\n",
            "True Label: sandstorm, Predicted Label: sandstorm\n",
            "True Label: sandstorm, Predicted Label: sandstorm\n",
            "True Label: sandstorm, Predicted Label: rain\n",
            "True Label: sandstorm, Predicted Label: sandstorm\n",
            "True Label: sandstorm, Predicted Label: sandstorm\n",
            "True Label: sandstorm, Predicted Label: rainbow\n",
            "True Label: sandstorm, Predicted Label: sandstorm\n",
            "True Label: sandstorm, Predicted Label: sandstorm\n",
            "True Label: sandstorm, Predicted Label: sandstorm\n",
            "True Label: sandstorm, Predicted Label: sandstorm\n",
            "True Label: sandstorm, Predicted Label: sandstorm\n",
            "True Label: sandstorm, Predicted Label: sandstorm\n",
            "True Label: sandstorm, Predicted Label: sandstorm\n",
            "True Label: sandstorm, Predicted Label: sandstorm\n",
            "True Label: sandstorm, Predicted Label: sandstorm\n",
            "True Label: sandstorm, Predicted Label: sandstorm\n",
            "True Label: sandstorm, Predicted Label: sandstorm\n",
            "True Label: sandstorm, Predicted Label: sandstorm\n",
            "True Label: sandstorm, Predicted Label: fogsmog\n",
            "True Label: sandstorm, Predicted Label: sandstorm\n",
            "True Label: sandstorm, Predicted Label: rainbow\n",
            "True Label: sandstorm, Predicted Label: sandstorm\n",
            "True Label: sandstorm, Predicted Label: sandstorm\n",
            "True Label: sandstorm, Predicted Label: sandstorm\n",
            "True Label: sandstorm, Predicted Label: dew\n",
            "True Label: sandstorm, Predicted Label: sandstorm\n",
            "True Label: sandstorm, Predicted Label: sandstorm\n",
            "True Label: sandstorm, Predicted Label: sandstorm\n",
            "True Label: sandstorm, Predicted Label: sandstorm\n",
            "True Label: sandstorm, Predicted Label: rainbow\n",
            "True Label: sandstorm, Predicted Label: sandstorm\n",
            "True Label: sandstorm, Predicted Label: rainbow\n",
            "True Label: sandstorm, Predicted Label: rainbow\n",
            "True Label: sandstorm, Predicted Label: sandstorm\n",
            "True Label: sandstorm, Predicted Label: sandstorm\n",
            "True Label: sandstorm, Predicted Label: sandstorm\n",
            "True Label: sandstorm, Predicted Label: sandstorm\n",
            "True Label: sandstorm, Predicted Label: sandstorm\n",
            "True Label: sandstorm, Predicted Label: sandstorm\n",
            "True Label: sandstorm, Predicted Label: sandstorm\n",
            "True Label: sandstorm, Predicted Label: sandstorm\n",
            "True Label: sandstorm, Predicted Label: sandstorm\n",
            "True Label: sandstorm, Predicted Label: fogsmog\n",
            "True Label: sandstorm, Predicted Label: sandstorm\n",
            "True Label: sandstorm, Predicted Label: fogsmog\n",
            "True Label: sandstorm, Predicted Label: sandstorm\n",
            "True Label: sandstorm, Predicted Label: fogsmog\n",
            "True Label: sandstorm, Predicted Label: sandstorm\n",
            "True Label: sandstorm, Predicted Label: sandstorm\n",
            "True Label: sandstorm, Predicted Label: sandstorm\n",
            "True Label: sandstorm, Predicted Label: sandstorm\n",
            "True Label: sandstorm, Predicted Label: sandstorm\n",
            "True Label: sandstorm, Predicted Label: sandstorm\n",
            "True Label: sandstorm, Predicted Label: sandstorm\n",
            "True Label: sandstorm, Predicted Label: sandstorm\n",
            "True Label: sandstorm, Predicted Label: sandstorm\n",
            "True Label: sandstorm, Predicted Label: rainbow\n",
            "True Label: sandstorm, Predicted Label: sandstorm\n",
            "True Label: sandstorm, Predicted Label: sandstorm\n",
            "True Label: sandstorm, Predicted Label: sandstorm\n",
            "True Label: sandstorm, Predicted Label: sandstorm\n",
            "True Label: sandstorm, Predicted Label: rainbow\n",
            "True Label: sandstorm, Predicted Label: fogsmog\n",
            "True Label: sandstorm, Predicted Label: sandstorm\n",
            "True Label: sandstorm, Predicted Label: sandstorm\n",
            "True Label: sandstorm, Predicted Label: sandstorm\n",
            "True Label: sandstorm, Predicted Label: sandstorm\n",
            "True Label: sandstorm, Predicted Label: sandstorm\n",
            "True Label: sandstorm, Predicted Label: sandstorm\n",
            "True Label: sandstorm, Predicted Label: sandstorm\n",
            "True Label: sandstorm, Predicted Label: sandstorm\n",
            "True Label: sandstorm, Predicted Label: sandstorm\n",
            "True Label: sandstorm, Predicted Label: sandstorm\n",
            "True Label: snow, Predicted Label: rain\n",
            "True Label: snow, Predicted Label: dew\n",
            "True Label: snow, Predicted Label: snow\n",
            "True Label: snow, Predicted Label: snow\n",
            "True Label: snow, Predicted Label: snow\n",
            "True Label: snow, Predicted Label: snow\n",
            "True Label: snow, Predicted Label: snow\n",
            "True Label: snow, Predicted Label: glaze\n",
            "True Label: snow, Predicted Label: rain\n",
            "True Label: snow, Predicted Label: snow\n",
            "True Label: snow, Predicted Label: sandstorm\n",
            "True Label: snow, Predicted Label: rain\n",
            "True Label: snow, Predicted Label: rain\n",
            "True Label: snow, Predicted Label: glaze\n",
            "True Label: snow, Predicted Label: rain\n",
            "True Label: snow, Predicted Label: snow\n",
            "True Label: snow, Predicted Label: snow\n",
            "True Label: snow, Predicted Label: snow\n",
            "True Label: snow, Predicted Label: snow\n",
            "True Label: snow, Predicted Label: snow\n",
            "True Label: snow, Predicted Label: rain\n",
            "True Label: snow, Predicted Label: snow\n",
            "True Label: snow, Predicted Label: rain\n",
            "True Label: snow, Predicted Label: rain\n",
            "True Label: snow, Predicted Label: rain\n",
            "True Label: snow, Predicted Label: rain\n",
            "True Label: snow, Predicted Label: sandstorm\n",
            "True Label: snow, Predicted Label: rain\n",
            "True Label: snow, Predicted Label: dew\n",
            "True Label: snow, Predicted Label: rain\n",
            "True Label: snow, Predicted Label: fogsmog\n",
            "True Label: snow, Predicted Label: snow\n",
            "True Label: snow, Predicted Label: snow\n",
            "True Label: snow, Predicted Label: snow\n",
            "True Label: snow, Predicted Label: snow\n",
            "True Label: snow, Predicted Label: snow\n",
            "True Label: snow, Predicted Label: rain\n",
            "True Label: snow, Predicted Label: snow\n",
            "True Label: snow, Predicted Label: glaze\n",
            "True Label: snow, Predicted Label: sandstorm\n",
            "True Label: snow, Predicted Label: snow\n",
            "True Label: snow, Predicted Label: rain\n",
            "True Label: snow, Predicted Label: rain\n",
            "True Label: snow, Predicted Label: snow\n",
            "True Label: snow, Predicted Label: rain\n",
            "True Label: snow, Predicted Label: snow\n",
            "True Label: snow, Predicted Label: rain\n",
            "True Label: snow, Predicted Label: snow\n",
            "True Label: snow, Predicted Label: snow\n"
          ]
        }
      ]
    },
    {
      "cell_type": "markdown",
      "source": [
        "Save the model"
      ],
      "metadata": {
        "id": "J_dIhCxrT9ZG"
      }
    },
    {
      "cell_type": "code",
      "source": [
        "model.save(f\"model-ResNet50.h5\", save_format=\"h5\")"
      ],
      "metadata": {
        "id": "8kmBOcCETj35"
      },
      "execution_count": 26,
      "outputs": []
    },
    {
      "cell_type": "markdown",
      "source": [
        "Get the class labels"
      ],
      "metadata": {
        "id": "5zlTRUa7L2Kb"
      }
    },
    {
      "cell_type": "code",
      "source": [
        "class_labels = list(train_generator.class_indices.keys())\n",
        "class_labels"
      ],
      "metadata": {
        "colab": {
          "base_uri": "https://localhost:8080/"
        },
        "id": "ZH67dpdGL0J9",
        "outputId": "d50a7dd2-5235-439a-8f74-f470e686af2e"
      },
      "execution_count": 27,
      "outputs": [
        {
          "output_type": "execute_result",
          "data": {
            "text/plain": [
              "['dew',\n",
              " 'fogsmog',\n",
              " 'frost',\n",
              " 'glaze',\n",
              " 'hail',\n",
              " 'lightning',\n",
              " 'rain',\n",
              " 'rainbow',\n",
              " 'rime',\n",
              " 'sandstorm',\n",
              " 'snow']"
            ]
          },
          "metadata": {},
          "execution_count": 27
        }
      ]
    },
    {
      "cell_type": "markdown",
      "source": [
        "Test the h5 model"
      ],
      "metadata": {
        "id": "sHr-bUWbB-_3"
      }
    },
    {
      "cell_type": "code",
      "source": [
        "import tensorflow as tf\n",
        "from tensorflow import keras\n",
        "\n",
        "# Load the model from the HDF5 file\n",
        "model = keras.models.load_model('model-ResNet50.h5')\n",
        "\n",
        "# Predictions\n",
        "predictions = model.predict(test_generator)\n",
        "predictions"
      ],
      "metadata": {
        "colab": {
          "base_uri": "https://localhost:8080/"
        },
        "id": "s0qmJfJQ-zgM",
        "outputId": "4f5500bb-3bbe-4264-af07-1d2bff0aafa0"
      },
      "execution_count": 26,
      "outputs": [
        {
          "output_type": "stream",
          "name": "stdout",
          "text": [
            "644/644 [==============================] - 178s 274ms/step\n"
          ]
        },
        {
          "output_type": "execute_result",
          "data": {
            "text/plain": [
              "array([[9.9740940e-01, 5.2697469e-06, 2.8281269e-04, ..., 2.3562036e-06,\n",
              "        8.0061352e-07, 1.9143856e-06],\n",
              "       [9.8543233e-01, 1.1448239e-03, 4.9290789e-04, ..., 2.1062298e-03,\n",
              "        7.2225688e-05, 3.3877481e-04],\n",
              "       [9.9292034e-01, 1.0776655e-03, 5.3092308e-04, ..., 3.5548161e-05,\n",
              "        1.7504526e-04, 7.7518838e-05],\n",
              "       ...,\n",
              "       [1.6271093e-05, 9.6450351e-02, 8.5594959e-04, ..., 5.9069814e-03,\n",
              "        3.5921868e-02, 6.2574142e-01],\n",
              "       [5.0849398e-03, 6.9157422e-01, 4.9142103e-04, ..., 9.2166453e-04,\n",
              "        1.6638269e-01, 2.1682715e-02],\n",
              "       [4.6798750e-06, 2.3246500e-09, 9.9127167e-01, ..., 1.0506363e-04,\n",
              "        1.4849947e-09, 8.1758043e-03]], dtype=float32)"
            ]
          },
          "metadata": {},
          "execution_count": 26
        }
      ]
    }
  ]
}